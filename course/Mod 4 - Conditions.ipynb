{
 "cells": [
  {
   "cell_type": "markdown",
   "metadata": {},
   "source": [
    "# Conditions\n",
    "\n",
    "Conditions are essential to any programming language.\n",
    "If statements in Python are constructed as follows:"
   ]
  },
  {
   "cell_type": "code",
   "execution_count": 13,
   "metadata": {},
   "outputs": [
    {
     "name": "stdout",
     "output_type": "stream",
     "text": [
      "a greater than b\n"
     ]
    }
   ],
   "source": [
    "a = 4\n",
    "b = 3\n",
    "if a > b:\n",
    "    print('a greater than b')"
   ]
  },
  {
   "cell_type": "markdown",
   "metadata": {},
   "source": [
    "If-Else:"
   ]
  },
  {
   "cell_type": "code",
   "execution_count": 11,
   "metadata": {},
   "outputs": [
    {
     "name": "stdout",
     "output_type": "stream",
     "text": [
      "a is not greater than b\n"
     ]
    }
   ],
   "source": [
    "a = 3\n",
    "b = 4\n",
    "if a > b:\n",
    "    print('a is greater than b')\n",
    "else:\n",
    "    print('a is not greater than b')"
   ]
  },
  {
   "cell_type": "markdown",
   "metadata": {},
   "source": [
    "If-elif:"
   ]
  },
  {
   "cell_type": "code",
   "execution_count": 15,
   "metadata": {},
   "outputs": [
    {
     "name": "stdout",
     "output_type": "stream",
     "text": [
      "a is greater than b\n"
     ]
    }
   ],
   "source": [
    "a = 4\n",
    "b = 3\n",
    "if a > b:\n",
    "    print('a is greater than b')\n",
    "elif b > a:\n",
    "    print('b is greater than a')"
   ]
  },
  {
   "cell_type": "markdown",
   "metadata": {},
   "source": [
    "Number of `elif` statements can be increased as many as wanted."
   ]
  },
  {
   "cell_type": "code",
   "execution_count": 16,
   "metadata": {},
   "outputs": [
    {
     "name": "stdout",
     "output_type": "stream",
     "text": [
      "a is equal to b\n"
     ]
    }
   ],
   "source": [
    "a = 4\n",
    "b = 4\n",
    "if a > b:\n",
    "    print('a is greater than b')\n",
    "elif b > a:\n",
    "    print('b is greater than a')\n",
    "elif b == a:\n",
    "    print('a is equal to b')"
   ]
  },
  {
   "cell_type": "markdown",
   "metadata": {},
   "source": [
    "Else:"
   ]
  },
  {
   "cell_type": "code",
   "execution_count": 17,
   "metadata": {},
   "outputs": [
    {
     "name": "stdout",
     "output_type": "stream",
     "text": [
      "a is equal to b\n"
     ]
    }
   ],
   "source": [
    "a = 4\n",
    "b = 4\n",
    "if a > b:\n",
    "    print('a is greater than b')\n",
    "elif b > a:\n",
    "    print('b is greater than a')\n",
    "else:\n",
    "    print('a is equal to b')   "
   ]
  },
  {
   "cell_type": "markdown",
   "metadata": {},
   "source": [
    "- Write a code snippet that asks for user input.\n",
    "    - Cast input to integer.\n",
    "    - Output should be `odd` if the number is odd, else `even`."
   ]
  },
  {
   "cell_type": "code",
   "execution_count": 19,
   "metadata": {},
   "outputs": [],
   "source": [
    "# Ask for input:\n",
    "\n",
    "# Convert to integer:\n",
    "\n",
    "# Write an If-Else statement:\n"
   ]
  },
  {
   "cell_type": "markdown",
   "metadata": {},
   "source": [
    "- Find the median of the following list. \n",
    "    - If the number of elements is odd, median is the element in the middle. \n",
    "    - Otherwise, median is the average of middle two elements."
   ]
  },
  {
   "cell_type": "code",
   "execution_count": 22,
   "metadata": {},
   "outputs": [],
   "source": [
    "sample_list = [9, 11, 0, 23, 12, 1]\n",
    "\n",
    "\n",
    "\n",
    "# Find length\n",
    "\n",
    "# Sort the list\n",
    "\n",
    "# If length is odd, return the element in the middle.\n",
    "\n",
    "# If length is even, return the average of middle two elements.\n"
   ]
  },
  {
   "cell_type": "markdown",
   "metadata": {},
   "source": [
    "- Write a code that performs following:\n",
    "    - Get user input and cast to integer.\n",
    "    - If the integer is divisible by two and greater than 10, print \"10-2\"\n",
    "    - If the integer is divisible by two but less than or equal to 10, print \"2-10\".\n",
    "    - If the integer is not divisible by two, print \"2++\""
   ]
  },
  {
   "cell_type": "code",
   "execution_count": null,
   "metadata": {},
   "outputs": [],
   "source": []
  },
  {
   "cell_type": "markdown",
   "metadata": {},
   "source": [
    "#### Inline Conditions\n",
    "Condition checks can be performed inline while assigning variables."
   ]
  },
  {
   "cell_type": "code",
   "execution_count": 23,
   "metadata": {},
   "outputs": [
    {
     "name": "stdout",
     "output_type": "stream",
     "text": [
      "Pear\n"
     ]
    }
   ],
   "source": [
    "a = 'Apple'\n",
    "\n",
    "b = 'Pear' if a == 'Apple' else 'Lemon'\n",
    "print(b)"
   ]
  },
  {
   "cell_type": "code",
   "execution_count": 24,
   "metadata": {},
   "outputs": [
    {
     "name": "stdout",
     "output_type": "stream",
     "text": [
      "Even\n"
     ]
    }
   ],
   "source": [
    "a = 8\n",
    "\n",
    "print('Odd') if a % 2 != 0 else print('Even')"
   ]
  },
  {
   "cell_type": "code",
   "execution_count": 25,
   "metadata": {},
   "outputs": [
    {
     "name": "stdout",
     "output_type": "stream",
     "text": [
      "Positive\n"
     ]
    }
   ],
   "source": [
    "text = 'Lorem ipsum dolor sit amet.'\n",
    "\n",
    "print('Positive') if 'sit' in text else print('Negative')"
   ]
  },
  {
   "cell_type": "code",
   "execution_count": 30,
   "metadata": {},
   "outputs": [
    {
     "name": "stdout",
     "output_type": "stream",
     "text": [
      "Negative\n"
     ]
    }
   ],
   "source": [
    "text = 'Lorem ipsum dolor sit amet.'\n",
    "\n",
    "print('Positive') if 'sit' not in text else print('Negative')  # not in"
   ]
  },
  {
   "cell_type": "markdown",
   "metadata": {},
   "source": [
    "- Write a one line code to print True if 7 is in `sample_list` or False if not."
   ]
  },
  {
   "cell_type": "code",
   "execution_count": 28,
   "metadata": {},
   "outputs": [],
   "source": [
    "sample_list = list(range(0,97,2))\n"
   ]
  },
  {
   "cell_type": "markdown",
   "metadata": {},
   "source": [
    "- Check if key `\"Weight\"` exists in dictionary below.\n",
    "    - If the key does not exist, add this key to the dictionary and assign a new value.\n",
    "    - If the key exists, do nothing."
   ]
  },
  {
   "cell_type": "code",
   "execution_count": null,
   "metadata": {},
   "outputs": [],
   "source": [
    "bado = {\"Name\": \"Bado\",\n",
    "        \"Height\": \"174\",\n",
    "        \"Color\": \"Chocolate\"}\n",
    "\n"
   ]
  },
  {
   "cell_type": "code",
   "execution_count": null,
   "metadata": {},
   "outputs": [],
   "source": []
  }
 ],
 "metadata": {
  "kernelspec": {
   "display_name": "Python 3",
   "language": "python",
   "name": "python3"
  },
  "language_info": {
   "codemirror_mode": {
    "name": "ipython",
    "version": 3
   },
   "file_extension": ".py",
   "mimetype": "text/x-python",
   "name": "python",
   "nbconvert_exporter": "python",
   "pygments_lexer": "ipython3",
   "version": "3.6.6"
  }
 },
 "nbformat": 4,
 "nbformat_minor": 2
}
