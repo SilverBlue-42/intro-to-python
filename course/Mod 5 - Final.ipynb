{
 "cells": [
  {
   "cell_type": "markdown",
   "metadata": {},
   "source": [
    "## Functions"
   ]
  },
  {
   "cell_type": "markdown",
   "metadata": {},
   "source": [
    "- Write a function that:\n",
    "    - takes to strings as input,\n",
    "    - removes whitespace (`' '`) in both strings,\n",
    "    - outputs the number of common letters in both strings.\n",
    "\n",
    "Sample input:\n",
    "```python\n",
    "find_common('brown fox', 'common letters')\n",
    "```\n",
    "Sample output:\n",
    "```python\n",
    "3  # Letters 'r', 'o' and 'n' are common in both strings. Space omitted.\n",
    "```"
   ]
  },
  {
   "cell_type": "code",
   "execution_count": null,
   "metadata": {},
   "outputs": [],
   "source": []
  },
  {
   "cell_type": "markdown",
   "metadata": {},
   "source": [
    "---"
   ]
  },
  {
   "cell_type": "markdown",
   "metadata": {},
   "source": [
    "- A function is needed to parse year information in `empires_extended` dictionary.\n",
    "    - Write a function that takes a string represeantation of a year as input,\n",
    "    - If the year is BC, remove the BC suffix and convert the year into a negative integer.\n",
    "    - If the year is AD, convert year into a positive integer.\n",
    "Sample input:\n",
    "```python\n",
    "print(parse_year('1773'))\n",
    "print(parse_year('652 BC'))\n",
    "```\n",
    "Sample output:\n",
    "```\n",
    "1773\n",
    "-652\n",
    "```"
   ]
  },
  {
   "cell_type": "code",
   "execution_count": null,
   "metadata": {},
   "outputs": [],
   "source": []
  },
  {
   "cell_type": "markdown",
   "metadata": {},
   "source": [
    "---"
   ]
  },
  {
   "cell_type": "markdown",
   "metadata": {},
   "source": [
    "- Write an inline lambda function that compares two lists and returns the longer one.\n",
    "    - If lists are of the same length, return the first list."
   ]
  },
  {
   "cell_type": "code",
   "execution_count": null,
   "metadata": {},
   "outputs": [],
   "source": []
  },
  {
   "cell_type": "markdown",
   "metadata": {},
   "source": [
    "---"
   ]
  },
  {
   "cell_type": "markdown",
   "metadata": {},
   "source": [
    "- Write a recursive function which returns fibonacci number at given sequence.  \n",
    "Note that \n",
    "$$\n",
    "fib(0) = 0 \\\\\n",
    "fib(1) = 1 \\\\\n",
    "fib(2) = fib(1) + fib(0) \\\\\n",
    "... \\\\\n",
    "fib(n) = fib(n-1) + fib(n-2) \\\\\n",
    "$$\n"
   ]
  },
  {
   "cell_type": "code",
   "execution_count": null,
   "metadata": {},
   "outputs": [],
   "source": [
    "def fib(n):\n",
    "    pass  # Delete pass and write your function here."
   ]
  },
  {
   "cell_type": "markdown",
   "metadata": {},
   "source": [
    "- Try your fibonacci function on n=38. (Notice how long does it take to calculate fibonacci number for such a relatively small integer)"
   ]
  },
  {
   "cell_type": "code",
   "execution_count": null,
   "metadata": {},
   "outputs": [],
   "source": [
    "%%time\n",
    "print(fib(38))"
   ]
  },
  {
   "cell_type": "markdown",
   "metadata": {},
   "source": [
    "Let's see how many times the function fib called to calculate `fib(38)`:"
   ]
  },
  {
   "cell_type": "code",
   "execution_count": 162,
   "metadata": {},
   "outputs": [
    {
     "name": "stdout",
     "output_type": "stream",
     "text": [
      "{'execution_count': 126491971}\n"
     ]
    }
   ],
   "source": [
    "counter = {'execution_count': 0}\n",
    "def fib_cnt(n):\n",
    "    counter['execution_count'] += 1\n",
    "    if n == 1:\n",
    "        return 1\n",
    "    if n == 0:\n",
    "        return 0\n",
    "    return fib_cnt(n-1) + fib_cnt(n-2)\n",
    "\n",
    "fib_cnt(38)\n",
    "print(counter)"
   ]
  },
  {
   "cell_type": "markdown",
   "metadata": {},
   "source": [
    "#### BONUS QUESTION: MEMOIZATION\n",
    "The fibonacci function we implemented above could not handle a relatively small integer input such as 50.  \n",
    "That is because number of recursions needed increases exponentially with `n`.  \n",
    "However, we can speed up the calculation by storing the already calculated values of fibonacci numbers.\n",
    "- Use a basic memoization technique to trade-off space vs time to speed up your fibonacci function."
   ]
  },
  {
   "cell_type": "code",
   "execution_count": 168,
   "metadata": {},
   "outputs": [],
   "source": [
    "memory = {}\n",
    "cnt = {'execution_count':0}\n",
    "def fibo_mem(n, memory=memory, cnt=cnt):  # exploit the mutability feature of a dictionary\n",
    "    cnt['execution_count'] += 1\n",
    "    if n==0:\n",
    "        return 0\n",
    "    if n==1:\n",
    "        return 1\n",
    "    if n-1 not in memory:\n",
    "        memory[n-1] = fibo_mem(n-1)  # memory dictionary goes in by default\n",
    "    if n-2 not in memory:\n",
    "        memory[n-2] = fibo_mem(n-2)\n",
    "    return memory[n-1] + memory[n-2]"
   ]
  },
  {
   "cell_type": "code",
   "execution_count": 169,
   "metadata": {},
   "outputs": [
    {
     "name": "stdout",
     "output_type": "stream",
     "text": [
      "39088169\n",
      "{'execution_count': 39}\n",
      "Wall time: 499 µs\n"
     ]
    }
   ],
   "source": [
    "%%time\n",
    "print(fibo_mem(38))\n",
    "print(cnt)"
   ]
  },
  {
   "cell_type": "markdown",
   "metadata": {},
   "source": [
    "**Number of function calls has drastically decreased from 126 millions to 39!**"
   ]
  },
  {
   "cell_type": "code",
   "execution_count": null,
   "metadata": {},
   "outputs": [],
   "source": []
  }
 ],
 "metadata": {
  "kernelspec": {
   "display_name": "Python 3",
   "language": "python",
   "name": "python3"
  },
  "language_info": {
   "codemirror_mode": {
    "name": "ipython",
    "version": 3
   },
   "file_extension": ".py",
   "mimetype": "text/x-python",
   "name": "python",
   "nbconvert_exporter": "python",
   "pygments_lexer": "ipython3",
   "version": "3.6.6"
  }
 },
 "nbformat": 4,
 "nbformat_minor": 2
}
