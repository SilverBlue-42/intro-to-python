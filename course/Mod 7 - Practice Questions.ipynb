{
 "cells": [
  {
   "cell_type": "markdown",
   "metadata": {},
   "source": [
    "# Extra Practice Questions for List/Dict Comprehensions"
   ]
  },
  {
   "cell_type": "markdown",
   "metadata": {},
   "source": [
    "### Q1\n",
    "\n",
    "A Naval training is taking place in Mediterranean waters.  \n",
    "Brown and Blue forces each will have their ships deployed across a 100x100 grid system.\n",
    "\n",
    "- a. Using the `create_ship` function and given information, deploy the ships belonging to each force."
   ]
  },
  {
   "cell_type": "code",
   "execution_count": 1,
   "metadata": {},
   "outputs": [],
   "source": [
    "def create_ship(name, s_type, location):\n",
    "    ship = dict(Name=name, Type=s_type, Location=location)\n",
    "    return ship\n",
    "\n",
    "brown_coordinates = [(20,51), (23,54), (26,57), (29,60)]\n",
    "brown_names = ['Leon Trionfante', 'San Giocomo', 'Fedelta', 'Forza']\n",
    "brown_types = ['L-Class', 'L-Class', 'L-Class', 'L-Class']\n",
    "\n",
    "blue_coordinates = [(80,24), (81, 20), (82,16), (83, 12)]\n",
    "blue_names = ['Peyki-i Sevket', 'Asar-i Tevfik', 'Alpagut', 'Muin-i Zafer']\n",
    "blue_types = ['M-Class', 'M-Class', 'M-Class', 'M-Class']"
   ]
  },
  {
   "cell_type": "code",
   "execution_count": 2,
   "metadata": {},
   "outputs": [],
   "source": [
    "blue_force = []  # Your list comprehension here\n",
    "brown_force = []  # Your list comprehension here"
   ]
  },
  {
   "cell_type": "code",
   "execution_count": 4,
   "metadata": {},
   "outputs": [],
   "source": [
    "blue_force = [create_ship(blue_names[i],\n",
    "                          blue_types[i],\n",
    "                          blue_coordinates[i]) for i in range(len(blue_coordinates))]\n",
    "\n",
    "brown_force = [create_ship(brown_names[i],\n",
    "                          brown_types[i],\n",
    "                          brown_coordinates[i]) for i in range(len(brown_coordinates))]"
   ]
  },
  {
   "cell_type": "markdown",
   "metadata": {},
   "source": [
    "- b. Define a function to find distance between two ships. Arguments of the function should be two ships (dictionaries) and the output should be a scalar value.\n",
    "\n",
    "Sample Input:\n",
    "```python\n",
    "shipA = create_ship('A','C1',(0,3))\n",
    "shipB = create_ship('B','C2',(4,0))\n",
    "distance(shipA, shipB)\n",
    "```\n",
    "Sample Output:\n",
    "```\n",
    "5\n",
    "```"
   ]
  },
  {
   "cell_type": "code",
   "execution_count": null,
   "metadata": {},
   "outputs": [],
   "source": []
  },
  {
   "cell_type": "markdown",
   "metadata": {},
   "source": [
    "- c. Create a list of brown ships within 65 miles of any blue ship."
   ]
  },
  {
   "cell_type": "code",
   "execution_count": null,
   "metadata": {},
   "outputs": [],
   "source": []
  },
  {
   "cell_type": "markdown",
   "metadata": {},
   "source": [
    "- d. Move all blue ships 3 miles toward East."
   ]
  },
  {
   "cell_type": "code",
   "execution_count": 17,
   "metadata": {},
   "outputs": [],
   "source": [
    "import matplotlib.pyplot as plt"
   ]
  },
  {
   "cell_type": "code",
   "execution_count": 18,
   "metadata": {},
   "outputs": [],
   "source": [
    "c = blue_coordinates + brown_coordinates\n",
    "r = [0]*len(blue_coordinates) + [1]*len(brown_coordinates)"
   ]
  },
  {
   "attachments": {
    "image.png": {
     "image/png": "[encoded data removed]"
    }
   },
   "cell_type": "markdown",
   "metadata": {},
   "source": [
    "![image.png](attachment:image.png)"
   ]
  },
  {
   "cell_type": "code",
   "execution_count": 23,
   "metadata": {},
   "outputs": [
    {
     "data": {
      "image/png": "[encoded data removed]",
      "text/plain": [
       "<Figure size 432x288 with 1 Axes>"
      ]
     },
     "metadata": {
      "needs_background": "light"
     },
     "output_type": "display_data"
    }
   ],
   "source": []
  },
  {
   "cell_type": "code",
   "execution_count": null,
   "metadata": {},
   "outputs": [],
   "source": []
  }
 ],
 "metadata": {
  "kernelspec": {
   "display_name": "Python 3",
   "language": "python",
   "name": "python3"
  },
  "language_info": {
   "codemirror_mode": {
    "name": "ipython",
    "version": 3
   },
   "file_extension": ".py",
   "mimetype": "text/x-python",
   "name": "python",
   "nbconvert_exporter": "python",
   "pygments_lexer": "ipython3",
   "version": "3.6.8"
  }
 },
 "nbformat": 4,
 "nbformat_minor": 2
}
