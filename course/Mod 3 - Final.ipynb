{
 "cells": [
  {
   "cell_type": "markdown",
   "metadata": {},
   "source": [
    "# Dictionaries and Dictionary Operations"
   ]
  },
  {
   "cell_type": "markdown",
   "metadata": {},
   "source": [
    "**Q 1**\n",
    "\n",
    "- Create a data structure using nested dictionaries for the problem below:  \n",
    "> Bag A has 40 white balls and 50 red balls. Bag B has 90 white balls and 30 red balls.\n",
    "\n",
    "Sample Input:  \n",
    "```\n",
    "bags['A']['red']\n",
    "```\n",
    "Sample Output:\n",
    "```\n",
    "50\n",
    "```"
   ]
  },
  {
   "cell_type": "code",
   "execution_count": 69,
   "metadata": {},
   "outputs": [],
   "source": [
    "# bags = {\"A\":{'red':40, 'white':50 ...\n",
    "\n",
    "# Write your code below:\n"
   ]
  },
  {
   "cell_type": "markdown",
   "metadata": {},
   "source": [
    "Try to use dictionary methods to solve the problems as much as possible.  \n",
    "- What is the number of red balls in bag A?  \n"
   ]
  },
  {
   "cell_type": "code",
   "execution_count": null,
   "metadata": {},
   "outputs": [],
   "source": []
  },
  {
   "cell_type": "markdown",
   "metadata": {},
   "source": [
    "- What is the total number of balls in bag A?   \n",
    "Hint: Use `.values()` and `sum()`"
   ]
  },
  {
   "cell_type": "code",
   "execution_count": null,
   "metadata": {},
   "outputs": [],
   "source": []
  },
  {
   "cell_type": "markdown",
   "metadata": {},
   "source": [
    "- What is total number of balls in bag B?"
   ]
  },
  {
   "cell_type": "code",
   "execution_count": null,
   "metadata": {},
   "outputs": [],
   "source": []
  },
  {
   "cell_type": "markdown",
   "metadata": {},
   "source": [
    "- What is the total number of balls in all bags?   "
   ]
  },
  {
   "cell_type": "code",
   "execution_count": null,
   "metadata": {},
   "outputs": [],
   "source": []
  },
  {
   "cell_type": "markdown",
   "metadata": {},
   "source": [
    "- Add new balls to bag A and B:\n",
    "    - Add 50 \"yellow\" balls to bag A.\n",
    "    - Add 20 \"yellow\" balls to bag B.\n",
    "    "
   ]
  },
  {
   "cell_type": "code",
   "execution_count": null,
   "metadata": {},
   "outputs": [],
   "source": []
  },
  {
   "cell_type": "markdown",
   "metadata": {},
   "source": [
    "- Add 40 \"white\" balls to bag B."
   ]
  },
  {
   "cell_type": "code",
   "execution_count": null,
   "metadata": {},
   "outputs": [],
   "source": []
  },
  {
   "cell_type": "markdown",
   "metadata": {},
   "source": [
    "- Remove \"red\" balls from both bags."
   ]
  },
  {
   "cell_type": "code",
   "execution_count": null,
   "metadata": {},
   "outputs": [],
   "source": []
  },
  {
   "cell_type": "markdown",
   "metadata": {},
   "source": [
    "- Add a new bag \"C\" with 20 yellow and 40 white balls."
   ]
  },
  {
   "cell_type": "code",
   "execution_count": null,
   "metadata": {},
   "outputs": [],
   "source": []
  },
  {
   "cell_type": "markdown",
   "metadata": {},
   "source": [
    "- If a ball is randomly chosen, what is the probability that this ball comes from bag B?"
   ]
  },
  {
   "cell_type": "code",
   "execution_count": null,
   "metadata": {},
   "outputs": [],
   "source": []
  },
  {
   "cell_type": "markdown",
   "metadata": {},
   "source": [
    "**Q 2**  \n",
    "Given below are Ottoman Sultans during the Rise and Growth periods of Ottomans.  \n",
    "Solve the following questions accordingly:"
   ]
  },
  {
   "cell_type": "code",
   "execution_count": 38,
   "metadata": {},
   "outputs": [],
   "source": [
    "sultans = {'Osman Gazi (The Warrior)': {'Reigned from': 1299,\n",
    "  'Reigned until': 1326},\n",
    " 'Orhan Gazi (The Warrior)': {'Reigned from': 1326,\n",
    "  'Reigned until': 1362},\n",
    " 'Murad I Hudavendigar (The devotee of God)': {'Reigned from': 1362,\n",
    "  'Reigned until': 1389},\n",
    " \"Interregnum\":{\n",
    "     'İsa Çelebi The Co-Sultan of Anatolia': {'Reigned from': 1403,\n",
    "      'Reigned until': 1406},\n",
    "     'Emir Süleyman Çelebi The First Sultan of Rumelia': {'Reigned from': 1402,\n",
    "      'Reigned until': 1411},\n",
    "     'Musa Çelebi The Second Sultan of Rumelia': {'Reigned from': 1411,\n",
    "      'Reigned until': 1413},\n",
    "     'Mehmed Çelebi The Sultan of Anatolia': {'Reigned from': 1403,\n",
    "      'Reigned until': 1413}},\n",
    " 'Mehmed I': {'Reigned from': 1413,\n",
    "  'Reigned until': 1421},\n",
    " 'Murad II Koca (The Great)': {'Reigned from': 1421,\n",
    "  'Reigned until': 1444},\n",
    " 'Mehmed II Fatih (The Conqueror)': {'Reigned from': 1444,\n",
    "  'Reigned until': 1446},\n",
    " 'Mehmed II Kayser-i Rum (Caesar of the Roman Empire) Fatih (The Conqueror)': {'Reigned from': 1451,\n",
    "  'Reigned until': 1481},\n",
    " 'Bayezid II Veli (The Saint)': {'Reigned from': 1481,\n",
    "  'Reigned until': 1512}\n",
    "}"
   ]
  },
  {
   "cell_type": "markdown",
   "metadata": {},
   "source": [
    "- Make a new dictionay named `interregnum` from the \"Interregnum\" key of sultans dictionary."
   ]
  },
  {
   "cell_type": "code",
   "execution_count": null,
   "metadata": {},
   "outputs": [],
   "source": []
  },
  {
   "cell_type": "markdown",
   "metadata": {},
   "source": [
    "- Delete the `Interregnum` key from `sultans` dictionary."
   ]
  },
  {
   "cell_type": "code",
   "execution_count": null,
   "metadata": {},
   "outputs": [],
   "source": []
  },
  {
   "cell_type": "markdown",
   "metadata": {},
   "source": [
    "- How many sultans have reigned in total during the Rise and Growth period?"
   ]
  },
  {
   "cell_type": "code",
   "execution_count": null,
   "metadata": {},
   "outputs": [],
   "source": []
  },
  {
   "cell_type": "markdown",
   "metadata": {},
   "source": [
    "- Create a list of sultan names and titles(Hint: Use `list()` and `.keys()`)"
   ]
  },
  {
   "cell_type": "code",
   "execution_count": null,
   "metadata": {},
   "outputs": [],
   "source": []
  },
  {
   "cell_type": "markdown",
   "metadata": {},
   "source": [
    "#### Inline Functions\n",
    "\n",
    "Python allows definition of inline functions. See the examples below:"
   ]
  },
  {
   "cell_type": "code",
   "execution_count": 92,
   "metadata": {},
   "outputs": [
    {
     "name": "stdout",
     "output_type": "stream",
     "text": [
      "4\n",
      "0\n"
     ]
    }
   ],
   "source": [
    "some_func = lambda x: x + 2\n",
    "print(some_func(2))\n",
    "print(some_func(-2))"
   ]
  },
  {
   "cell_type": "code",
   "execution_count": 93,
   "metadata": {},
   "outputs": [
    {
     "name": "stdout",
     "output_type": "stream",
     "text": [
      "foxes\n"
     ]
    }
   ],
   "source": [
    "s_func = lambda x: x + 'es'\n",
    "print(s_func('fox'))"
   ]
  },
  {
   "cell_type": "code",
   "execution_count": 94,
   "metadata": {},
   "outputs": [
    {
     "name": "stdout",
     "output_type": "stream",
     "text": [
      "2.0\n"
     ]
    }
   ],
   "source": [
    "two_args = lambda x,y: x/y\n",
    "print(two_args(6,3))"
   ]
  },
  {
   "cell_type": "code",
   "execution_count": 95,
   "metadata": {},
   "outputs": [
    {
     "name": "stdout",
     "output_type": "stream",
     "text": [
      "3\n"
     ]
    }
   ],
   "source": [
    "fetch_second_elememt = lambda x: x[1]\n",
    "print(fetch_second_elememt([1,3,5,7,9]))"
   ]
  },
  {
   "cell_type": "code",
   "execution_count": 97,
   "metadata": {},
   "outputs": [
    {
     "name": "stdout",
     "output_type": "stream",
     "text": [
      "156\n"
     ]
    }
   ],
   "source": [
    "fetch_a_key = lambda x: x['weight']\n",
    "some_dict = {'name':'Bado', 'height':\"5'13\\\"\", 'weight':156}\n",
    "print(fetch_a_key(some_dict))"
   ]
  },
  {
   "cell_type": "markdown",
   "metadata": {},
   "source": [
    "#### Mini-exercise before bonus section: using inline functions for mapping, min, max and sorted\n",
    "\n",
    "`min`, `max` and `sorted` functions can be used on nested lists or tuples.  \n",
    "By default, these functions sort lists, or fetch min or max by their first elements."
   ]
  },
  {
   "cell_type": "code",
   "execution_count": 101,
   "metadata": {},
   "outputs": [
    {
     "data": {
      "text/plain": [
       "[1, 2]"
      ]
     },
     "execution_count": 101,
     "metadata": {},
     "output_type": "execute_result"
    }
   ],
   "source": [
    "nest_list = [[1,2],[3,1]]\n",
    "min(nest_list)"
   ]
  },
  {
   "cell_type": "code",
   "execution_count": 88,
   "metadata": {},
   "outputs": [
    {
     "data": {
      "text/plain": [
       "('b', 'a')"
      ]
     },
     "execution_count": 88,
     "metadata": {},
     "output_type": "execute_result"
    }
   ],
   "source": [
    "max(('a','b'),('b','a'))  # Note that b > a in terms of ASCII equivalents"
   ]
  },
  {
   "cell_type": "code",
   "execution_count": 98,
   "metadata": {},
   "outputs": [
    {
     "data": {
      "text/plain": [
       "[(9, 56), (25, 20), (34, 12), (45, 1)]"
      ]
     },
     "execution_count": 98,
     "metadata": {},
     "output_type": "execute_result"
    }
   ],
   "source": [
    "nest_tuple = ((34,12),(25,20),(45,1),(9, 56))\n",
    "sorted(nest_tuple)"
   ]
  },
  {
   "cell_type": "markdown",
   "metadata": {},
   "source": [
    "These functions can become much more powerful when used with keyword `key` and passed a function.\n",
    "- Sort by second element\n"
   ]
  },
  {
   "cell_type": "code",
   "execution_count": 99,
   "metadata": {},
   "outputs": [
    {
     "data": {
      "text/plain": [
       "[(45, 1), (34, 12), (25, 20), (9, 56)]"
      ]
     },
     "execution_count": 99,
     "metadata": {},
     "output_type": "execute_result"
    }
   ],
   "source": [
    "nest_tuple = ((34,12),(25,20),(45,1),(9, 56))\n",
    "sorted(nest_tuple, key=lambda x: x[1])"
   ]
  },
  {
   "cell_type": "markdown",
   "metadata": {},
   "source": [
    "- Minimum by second element:"
   ]
  },
  {
   "cell_type": "code",
   "execution_count": 102,
   "metadata": {},
   "outputs": [
    {
     "data": {
      "text/plain": [
       "[3, 1]"
      ]
     },
     "execution_count": 102,
     "metadata": {},
     "output_type": "execute_result"
    }
   ],
   "source": [
    "nest_list = [[1,2],[3,1]]\n",
    "min(nest_list, key=lambda x: x[1])"
   ]
  },
  {
   "cell_type": "markdown",
   "metadata": {},
   "source": [
    "- Limits of key are up to our creativity. Sort by sum:"
   ]
  },
  {
   "cell_type": "code",
   "execution_count": 104,
   "metadata": {},
   "outputs": [
    {
     "data": {
      "text/plain": [
       "[(25, 20), (34, 12), (45, 1), (9, 56)]"
      ]
     },
     "execution_count": 104,
     "metadata": {},
     "output_type": "execute_result"
    }
   ],
   "source": [
    "sorted(nest_tuple, key=sum)  # Equivalent to key=lambda x: sum(x)"
   ]
  },
  {
   "cell_type": "markdown",
   "metadata": {},
   "source": [
    "- Sort by second element minus third element:"
   ]
  },
  {
   "cell_type": "code",
   "execution_count": 105,
   "metadata": {},
   "outputs": [
    {
     "data": {
      "text/plain": [
       "[(1, 4, 5), (4.4, 9, 0.6), (6, 10, -3)]"
      ]
     },
     "execution_count": 105,
     "metadata": {},
     "output_type": "execute_result"
    }
   ],
   "source": [
    "nest_tuple2 = ((1,4,5),(6,10,-3),(4.4, 9, 0.6))\n",
    "sorted(nest_tuple2, key=lambda x: x[1] - x[2])"
   ]
  },
  {
   "cell_type": "markdown",
   "metadata": {},
   "source": [
    "- It is also possible to retrieve results of those operations above instead of sorting, min or max"
   ]
  },
  {
   "cell_type": "code",
   "execution_count": 107,
   "metadata": {},
   "outputs": [
    {
     "data": {
      "text/plain": [
       "[-1, 13, 8.4]"
      ]
     },
     "execution_count": 107,
     "metadata": {},
     "output_type": "execute_result"
    }
   ],
   "source": [
    "nest_tuple2 = ((1,4,5),(6,10,-3),(4.4, 9, 0.6))\n",
    "m = map(lambda x: x[1] - x[2], nest_tuple2)  # This line returns a mapper object\n",
    "l = list(m)  # Create a list using mapper object to actualize its values\n",
    "l"
   ]
  },
  {
   "cell_type": "markdown",
   "metadata": {},
   "source": [
    "*- OPTIONAL- Bonus Section*\n",
    "- Retrieve the name of the longest reigned sultan.   \n",
    "Modify and use the code below.  \n",
    "Example code snippet to retrieve the name of earliest reigned sultan:\n",
    "```\n",
    "items = sultans.items()  # Create a list of key-value pair tuples.\n",
    "earliest_sultan_tuple = min(items, key=lambda x: x[1]['Reigned from'])\n",
    "earliest_sultan_name = earliest_sultan_tuple[0]\n",
    "print(earliest_sultan_name)\n",
    "```"
   ]
  },
  {
   "cell_type": "code",
   "execution_count": 74,
   "metadata": {},
   "outputs": [
    {
     "data": {
      "text/plain": [
       "[('Osman Gazi (The Warrior)', {'Reigned from': 1299, 'Reigned until': 1326}),\n",
       " ('Orhan Gazi (The Warrior)', {'Reigned from': 1326, 'Reigned until': 1362}),\n",
       " ('Murad I Hudavendigar (The devotee of God)',\n",
       "  {'Reigned from': 1362, 'Reigned until': 1389})]"
      ]
     },
     "execution_count": 74,
     "metadata": {},
     "output_type": "execute_result"
    }
   ],
   "source": [
    "items = list(sultans.items())  # Create a list of key-value pair tuples.\n",
    "items[:3]  # Retrieve the first three items to see what the list looks like"
   ]
  },
  {
   "cell_type": "code",
   "execution_count": 70,
   "metadata": {},
   "outputs": [
    {
     "data": {
      "text/plain": [
       "('Osman Gazi (The Warrior)', {'Reigned from': 1299, 'Reigned until': 1326})"
      ]
     },
     "execution_count": 70,
     "metadata": {},
     "output_type": "execute_result"
    }
   ],
   "source": [
    "items[0]  # Each item of the list is a tuple"
   ]
  },
  {
   "cell_type": "code",
   "execution_count": 75,
   "metadata": {},
   "outputs": [
    {
     "name": "stdout",
     "output_type": "stream",
     "text": [
      "Osman Gazi (The Warrior)\n",
      "{'Reigned from': 1299, 'Reigned until': 1326}\n"
     ]
    }
   ],
   "source": [
    "print(items[0][0])  # First item of the tuple is a string\n",
    "print(items[0][1])  # and the second one is a dictionary"
   ]
  },
  {
   "cell_type": "code",
   "execution_count": 76,
   "metadata": {},
   "outputs": [
    {
     "data": {
      "text/plain": [
       "('Osman Gazi (The Warrior)', {'Reigned from': 1299, 'Reigned until': 1326})"
      ]
     },
     "execution_count": 76,
     "metadata": {},
     "output_type": "execute_result"
    }
   ],
   "source": [
    "earliest_sultan_tuple = min(items, key=lambda x: x[1]['Reigned from'])  # In this code, x stands for each tuple\n",
    "earliest_sultan_tuple"
   ]
  },
  {
   "cell_type": "code",
   "execution_count": 77,
   "metadata": {},
   "outputs": [
    {
     "name": "stdout",
     "output_type": "stream",
     "text": [
      "Osman Gazi (The Warrior)\n"
     ]
    }
   ],
   "source": [
    "earliest_sultan_name = earliest_sultan_tuple[0]  # Select the first element, the name, from the tuple\n",
    "print(earliest_sultan_name)"
   ]
  },
  {
   "cell_type": "markdown",
   "metadata": {},
   "source": [
    "- Modify the `min(items, key=lambda x: .........)` statement,  \n",
    "i.e change `min` to `max` and use a proper function i.e `x[1]['Reigned until'] - x[1]['Reigned from']`"
   ]
  },
  {
   "cell_type": "code",
   "execution_count": null,
   "metadata": {},
   "outputs": [],
   "source": []
  },
  {
   "cell_type": "markdown",
   "metadata": {},
   "source": [
    "*ULTIMATE BONUS SECTION*\n",
    "\n",
    "- Add calculated `'Duration of reign'` to each sultan's dictionary."
   ]
  },
  {
   "cell_type": "code",
   "execution_count": null,
   "metadata": {},
   "outputs": [],
   "source": []
  }
 ],
 "metadata": {
  "kernelspec": {
   "display_name": "Python 3",
   "language": "python",
   "name": "python3"
  },
  "language_info": {
   "codemirror_mode": {
    "name": "ipython",
    "version": 3
   },
   "file_extension": ".py",
   "mimetype": "text/x-python",
   "name": "python",
   "nbconvert_exporter": "python",
   "pygments_lexer": "ipython3",
   "version": "3.6.6"
  }
 },
 "nbformat": 4,
 "nbformat_minor": 2
}
