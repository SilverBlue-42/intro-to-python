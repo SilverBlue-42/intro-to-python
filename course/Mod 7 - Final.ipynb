{
 "cells": [
  {
   "cell_type": "markdown",
   "metadata": {},
   "source": [
    "# List Comprehensions"
   ]
  },
  {
   "cell_type": "markdown",
   "metadata": {},
   "source": [
    "- Create a set of all integers divisible by 7 between 0 and 1000."
   ]
  },
  {
   "cell_type": "code",
   "execution_count": null,
   "metadata": {},
   "outputs": [],
   "source": []
  },
  {
   "cell_type": "markdown",
   "metadata": {},
   "source": [
    "- Given a sentence, create a list of all reversed words if the word does not start with `'a'`."
   ]
  },
  {
   "cell_type": "code",
   "execution_count": null,
   "metadata": {},
   "outputs": [],
   "source": [
    "sentence = 'Lorem ipsum dolor sit amet, consectetur adipiscing elit, sed do eiusmod tempor incididunt ut labore et dolore magna aliqua'\n",
    "\n",
    "# Write your code here"
   ]
  },
  {
   "cell_type": "markdown",
   "metadata": {},
   "source": [
    "- Given the 2x4 matrix below, transpose the matrix to obtain a 4x2 matrix using a list comprehension.\n",
    "Sample Input:\n",
    "```\n",
    "[[1, 2, 3, 4],[5, 6, 7, 8]]\n",
    "```\n",
    "Sample Output:\n",
    "```\n",
    "[[1, 5], [2, 6], [3, 7], [4, 8]]\n",
    "```"
   ]
  },
  {
   "cell_type": "code",
   "execution_count": 8,
   "metadata": {},
   "outputs": [],
   "source": [
    "matrix = [[9, 1, 4, 5], [8, 2, 3, 0]]\n",
    "\n",
    "# Write your code here."
   ]
  },
  {
   "cell_type": "code",
   "execution_count": null,
   "metadata": {},
   "outputs": [],
   "source": []
  },
  {
   "cell_type": "markdown",
   "metadata": {},
   "source": [
    "- Toss 8 coins 10,000 times(1 represents heads and 0 represents tails). Count the occurences of 3 or less heads.\n",
    "\n",
    "Hint"
   ]
  },
  {
   "cell_type": "code",
   "execution_count": null,
   "metadata": {},
   "outputs": [],
   "source": []
  },
  {
   "cell_type": "markdown",
   "metadata": {},
   "source": [
    "# Dict Comprehensions"
   ]
  },
  {
   "cell_type": "markdown",
   "metadata": {},
   "source": [
    "- Create a dictionary of characters and their binary ASCII representations, whose ASCII represantations are less than 128.  (Hint: Use `chr()` and `bin()` functions.)  \n",
    "Example:\n",
    "```\n",
    "{'A': '0b1000001',\n",
    " 'B': '0b1000010',\n",
    " 'C': '0b1000011',\n",
    " 'D': '0b1000100',\n",
    " 'E': '0b1000101',\n",
    " ...\n",
    " }\n",
    "```"
   ]
  },
  {
   "cell_type": "code",
   "execution_count": 20,
   "metadata": {},
   "outputs": [],
   "source": [
    "# Write your code here."
   ]
  },
  {
   "cell_type": "markdown",
   "metadata": {},
   "source": [
    "- Find the [mode](https://en.wikipedia.org/wiki/Mode_(statistics)) of the list given below."
   ]
  },
  {
   "cell_type": "code",
   "execution_count": 32,
   "metadata": {},
   "outputs": [],
   "source": [
    "values = [19, 15, 4, 7, 8, 1, 11, 8, 19, 12, 6, 13, 18, 8, 16, 0, 7, 13, 14, 18, 15, 0, 12, 19, 13, 14, 19, 6, 8, 14]"
   ]
  }
 ],
 "metadata": {
  "kernelspec": {
   "display_name": "Python 3",
   "language": "python",
   "name": "python3"
  },
  "language_info": {
   "codemirror_mode": {
    "name": "ipython",
    "version": 3
   },
   "file_extension": ".py",
   "mimetype": "text/x-python",
   "name": "python",
   "nbconvert_exporter": "python",
   "pygments_lexer": "ipython3",
   "version": "3.7.0"
  }
 },
 "nbformat": 4,
 "nbformat_minor": 2
}
