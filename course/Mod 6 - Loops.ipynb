{
 "cells": [
  {
   "cell_type": "markdown",
   "metadata": {},
   "source": [
    "# Loops\n",
    "\n",
    "Python has two loop commands: `while` and `for`.\n",
    "\n",
    "### `while` Loops\n",
    "\n",
    "`while` loops are executed as long as a condition is `True`."
   ]
  },
  {
   "cell_type": "code",
   "execution_count": null,
   "metadata": {},
   "outputs": [],
   "source": [
    "i = 0\n",
    "while i < 3:\n",
    "    print(i)\n",
    "    i += 1  # Equivalent to i = i + 1"
   ]
  },
  {
   "cell_type": "markdown",
   "metadata": {},
   "source": [
    "- Use a while loop to sum up integers from 0 to 50."
   ]
  },
  {
   "cell_type": "code",
   "execution_count": null,
   "metadata": {},
   "outputs": [],
   "source": []
  },
  {
   "cell_type": "markdown",
   "metadata": {},
   "source": [
    "### `break`"
   ]
  },
  {
   "cell_type": "markdown",
   "metadata": {},
   "source": [
    "`break` statement breaks out of a loop.  \n",
    "Can be useful if searching for a certain condition."
   ]
  },
  {
   "cell_type": "code",
   "execution_count": null,
   "metadata": {},
   "outputs": [],
   "source": [
    "i = 0\n",
    "while i < 750:\n",
    "    if i == 3:\n",
    "        break  # The loop is broken here and 3 is not printed\n",
    "    print(i)\n",
    "    i += 1"
   ]
  },
  {
   "cell_type": "markdown",
   "metadata": {},
   "source": [
    "- Given the list of integers below, find the first even element, return the element and its index.\n",
    "    - Do not iterate after finding the even integer."
   ]
  },
  {
   "cell_type": "code",
   "execution_count": null,
   "metadata": {},
   "outputs": [],
   "source": [
    "sample_list = [1, 3, 101, 453, 25, 11, 97, 102, 13, 90, 56]\n",
    "\n",
    "# Write your code here"
   ]
  },
  {
   "cell_type": "markdown",
   "metadata": {},
   "source": [
    "### `continue`\n",
    "`continue` statement stops the execution of current iteration but does not break the loop.  \n",
    "Iteration starts over again."
   ]
  },
  {
   "cell_type": "code",
   "execution_count": null,
   "metadata": {},
   "outputs": [],
   "source": [
    "i = 0\n",
    "while i < 6:\n",
    "    i += 1\n",
    "    if i == 3:\n",
    "        continue\n",
    "    print(i)"
   ]
  },
  {
   "cell_type": "markdown",
   "metadata": {},
   "source": [
    "Note that if `i` is incremented after `continue` statement, loop might become **infinite**."
   ]
  },
  {
   "cell_type": "code",
   "execution_count": null,
   "metadata": {},
   "outputs": [],
   "source": [
    "i = 0\n",
    "while i < 6:\n",
    "    if i == 3:  # Infinite loop\n",
    "        continue  \n",
    "    print(i)\n",
    "    i += 1"
   ]
  },
  {
   "cell_type": "markdown",
   "metadata": {},
   "source": [
    "An example use of `while` loop with list indices."
   ]
  },
  {
   "cell_type": "code",
   "execution_count": null,
   "metadata": {},
   "outputs": [],
   "source": [
    "l = [1, 2, 4]\n",
    "i = 0\n",
    "while i < len(l):\n",
    "    print(l[i])\n",
    "    i += 1"
   ]
  },
  {
   "cell_type": "markdown",
   "metadata": {},
   "source": [
    "- Given the list of mixed integers and strings below:\n",
    "    - Use a while loop to print the square roots of integers.\n",
    "    - If the current element is a string, do nothing.\n",
    "    \n",
    "Sample input:\n",
    "```python\n",
    "[25, 16, 'mht', 100, 'c']\n",
    "```\n",
    "Sample output:\n",
    "```\n",
    "5\n",
    "4\n",
    "10\n",
    "```"
   ]
  },
  {
   "cell_type": "code",
   "execution_count": null,
   "metadata": {},
   "outputs": [],
   "source": [
    "mixed_list = [25, 12, 'qwr', 89, 'zuma', '12', 1]\n",
    "\n"
   ]
  },
  {
   "cell_type": "markdown",
   "metadata": {},
   "source": [
    "- Write a code that asks for user prompt until gets 'Y' or 'N'.  \n",
    "Sample scenario:\n",
    "```\n",
    "Do you want to continue?\n",
    ">>>e\n",
    "Do you want to continue?\n",
    ">>>tg\n",
    "Do you want to continue?\n",
    ">>>N\n",
    "Operation terminated.\n",
    "```"
   ]
  },
  {
   "cell_type": "code",
   "execution_count": null,
   "metadata": {},
   "outputs": [],
   "source": []
  },
  {
   "cell_type": "markdown",
   "metadata": {},
   "source": [
    "### A very helpful object: `range`\n",
    "\n",
    "`range` object allows to create ranges of integers between specified interval."
   ]
  },
  {
   "cell_type": "code",
   "execution_count": null,
   "metadata": {},
   "outputs": [],
   "source": [
    "range(4)"
   ]
  },
  {
   "cell_type": "markdown",
   "metadata": {},
   "source": [
    "`range` objects are *lazy* iterables, but can also be actualized if passed to a list, tuple, etc"
   ]
  },
  {
   "cell_type": "code",
   "execution_count": null,
   "metadata": {},
   "outputs": [],
   "source": [
    "list(range(4))"
   ]
  },
  {
   "cell_type": "code",
   "execution_count": null,
   "metadata": {},
   "outputs": [],
   "source": [
    "list(range(0, 10, 2))"
   ]
  },
  {
   "cell_type": "code",
   "execution_count": null,
   "metadata": {},
   "outputs": [],
   "source": [
    "s = 'some string'\n",
    "\n",
    "print(list(range(len(s))))"
   ]
  },
  {
   "cell_type": "markdown",
   "metadata": {},
   "source": [
    "## `for` Loops\n",
    "\n",
    "`for` loop is used for iterating over an iterable (list, tuple, set, range, dictionary, string, etc.)  \n",
    "`for` loop executes statements for each element of the iterable."
   ]
  },
  {
   "cell_type": "code",
   "execution_count": null,
   "metadata": {},
   "outputs": [],
   "source": [
    "for i in range(4):\n",
    "    print(i)"
   ]
  },
  {
   "cell_type": "code",
   "execution_count": null,
   "metadata": {},
   "outputs": [],
   "source": [
    "l = [1, 2, 3]\n",
    "for i in l:\n",
    "    print(i**2)"
   ]
  },
  {
   "cell_type": "code",
   "execution_count": null,
   "metadata": {},
   "outputs": [],
   "source": [
    "s = 'string'\n",
    "new_s = ''\n",
    "for i in reversed(s):\n",
    "    new_s += i\n",
    "    \n",
    "print(new_s)"
   ]
  },
  {
   "cell_type": "markdown",
   "metadata": {},
   "source": [
    "Adding two lists elementwise:"
   ]
  },
  {
   "cell_type": "code",
   "execution_count": null,
   "metadata": {},
   "outputs": [],
   "source": [
    "list_1 = [1, 45, 34]\n",
    "list_2 = [14, 12, -4]\n",
    "new_list = []\n",
    "for i in range(len(list_1)):\n",
    "    new_list.append(list_1[i] + list_2[i])\n",
    "    \n",
    "print(new_list)"
   ]
  },
  {
   "cell_type": "markdown",
   "metadata": {},
   "source": [
    "- Calculate the mean absolute difference between given two lists.\n",
    "Example:\n",
    "```\n",
    "l1 = [1, 2, 4]\n",
    "l2 = [9, 1, 5]\n",
    "# absolute differences are : [8, 1, 1]\n",
    "# mean absolute difference : 11 / 3\n",
    "```\n"
   ]
  },
  {
   "cell_type": "code",
   "execution_count": null,
   "metadata": {},
   "outputs": [],
   "source": [
    "actuals = [27, 20, 22, 25, 28, 34, 31, 33, 36]\n",
    "predictions = [25, 22, 21, 25, 27, 32, 33, 32, 33]\n",
    "\n"
   ]
  },
  {
   "cell_type": "markdown",
   "metadata": {},
   "source": [
    "**Breaking a for loop**:"
   ]
  },
  {
   "cell_type": "code",
   "execution_count": null,
   "metadata": {},
   "outputs": [],
   "source": [
    "for i in range(4):\n",
    "    if i == 2:\n",
    "        break\n",
    "    print(i)"
   ]
  },
  {
   "cell_type": "markdown",
   "metadata": {},
   "source": [
    "**Continuing a loop**:"
   ]
  },
  {
   "cell_type": "code",
   "execution_count": null,
   "metadata": {},
   "outputs": [],
   "source": [
    "for i in range(4):\n",
    "    if i == 2:\n",
    "        continue\n",
    "    print(i)"
   ]
  },
  {
   "cell_type": "markdown",
   "metadata": {},
   "source": [
    "- Given a list of student grades from Math II, retrieve the list of scores less than 24.  \n",
    "Sample Input:\n",
    "```\n",
    "[12, 45, 54, 17, 25, 3]\n",
    "```\n",
    "Sample Output:\n",
    "```\n",
    "[12, 17, 3]\n",
    "```"
   ]
  },
  {
   "cell_type": "code",
   "execution_count": null,
   "metadata": {},
   "outputs": [],
   "source": [
    "grades = [16, 34, 45, 51, 44, 39, 23, 11, 5, 4, 56, 62]\n",
    "\n",
    "# Write your code here"
   ]
  },
  {
   "cell_type": "markdown",
   "metadata": {},
   "source": [
    "#### Nested loops:"
   ]
  },
  {
   "cell_type": "code",
   "execution_count": null,
   "metadata": {},
   "outputs": [],
   "source": [
    "a = [1, 2, 3]\n",
    "b = [11, 12, 13]\n",
    "\n",
    "for i in a:\n",
    "    for j in b:\n",
    "        print(i, j)"
   ]
  },
  {
   "cell_type": "markdown",
   "metadata": {},
   "source": [
    "- Given a list of integers, find if sum of any two elements equals to 17."
   ]
  },
  {
   "cell_type": "code",
   "execution_count": null,
   "metadata": {},
   "outputs": [],
   "source": [
    "lst = [1, 45, 12, 4, 16, 9]\n",
    "\n",
    "for i in range(len(lst)):\n",
    "    for j in  range(i, len(lst)):\n",
    "        if lst[i] + lst[j] == 17:\n",
    "            print('elements found')\n",
    "            print(lst[i], lst[j])\n",
    "            break"
   ]
  },
  {
   "cell_type": "markdown",
   "metadata": {},
   "source": [
    "- Given a dictionary of sales data, calculate and add `Total` key for each product.\n",
    "Before:  \n",
    "```\n",
    "{'Product A': {'Jan':123, 'Feb': 56, 'Mar': 135, 'Apr': 245, 'May':267},\n",
    " 'Product B': {'Jan':45, 'Feb': 22, 'Mar': 14, 'Apr': 67, 'May':87},\n",
    " ...}\n",
    " ```\n",
    " After:  \n",
    " ```\n",
    "{'Product A': {'Jan':123, 'Feb': 56, 'Mar': 135, 'Apr': 245, 'May':267, 'TOTAL': 826},\n",
    " 'Product B': {'Jan':45, 'Feb': 22, 'Mar': 14, 'Apr': 67, 'May':87, 'TOTAL': 235},\n",
    " ...}\n",
    " ```"
   ]
  },
  {
   "cell_type": "code",
   "execution_count": null,
   "metadata": {},
   "outputs": [],
   "source": [
    "sales = {'Product A': {'Jan':123, 'Feb': 56, 'Mar': 135, 'Apr': 245, 'May':267},\n",
    "         'Product B': {'Jan':45, 'Feb': 22, 'Mar': 14, 'Apr': 67, 'May':87},\n",
    "         'Product C': {'Jan':28, 'Feb': 40, 'Mar': 44, 'Apr': 58, 'May':51},\n",
    "         'Product D': {'Jan':256, 'Feb': 326, 'Mar': 389, 'Apr': 401, 'May':409}}\n",
    "\n",
    "# Wrtie your code here"
   ]
  }
 ],
 "metadata": {
  "kernelspec": {
   "display_name": "Python 3",
   "language": "python",
   "name": "python3"
  },
  "language_info": {
   "codemirror_mode": {
    "name": "ipython",
    "version": 3
   },
   "file_extension": ".py",
   "mimetype": "text/x-python",
   "name": "python",
   "nbconvert_exporter": "python",
   "pygments_lexer": "ipython3",
   "version": "3.6.6"
  }
 },
 "nbformat": 4,
 "nbformat_minor": 2
}
