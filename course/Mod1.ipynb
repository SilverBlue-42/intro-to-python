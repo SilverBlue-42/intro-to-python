{
 "cells": [
  {
   "cell_type": "markdown",
   "metadata": {},
   "source": [
    "# Data Types"
   ]
  },
  {
   "cell_type": "markdown",
   "metadata": {},
   "source": [
    "### Integer"
   ]
  },
  {
   "cell_type": "markdown",
   "metadata": {},
   "source": [
    "Create an instance of integer object:"
   ]
  },
  {
   "cell_type": "code",
   "execution_count": null,
   "metadata": {},
   "outputs": [],
   "source": []
  },
  {
   "cell_type": "markdown",
   "metadata": {},
   "source": [
    "### Float\n",
    "\n",
    "Create an instance of a float object:"
   ]
  },
  {
   "cell_type": "code",
   "execution_count": null,
   "metadata": {},
   "outputs": [],
   "source": []
  },
  {
   "cell_type": "markdown",
   "metadata": {},
   "source": [
    "### Complex\n",
    "- Create an instance of a complex object  \n",
    "Syntax : `cp = 4 - 3j`"
   ]
  },
  {
   "cell_type": "code",
   "execution_count": null,
   "metadata": {},
   "outputs": [],
   "source": []
  },
  {
   "cell_type": "markdown",
   "metadata": {},
   "source": [
    "- Find real and imaginary parts of your complex number using object's own methods:\n",
    "    - c.real\n",
    "    - c.imag"
   ]
  },
  {
   "cell_type": "code",
   "execution_count": null,
   "metadata": {},
   "outputs": [],
   "source": []
  },
  {
   "cell_type": "markdown",
   "metadata": {},
   "source": [
    "### Operations on Integers and Floats\n",
    "\n",
    "#### Type Casting\n",
    "\n",
    "Define an integer variable a.\n",
    "- Create a new variable `b` by casting variable `a` into float.\n",
    "- Create a new variable `cp` by casting variable `b` into complex."
   ]
  },
  {
   "cell_type": "markdown",
   "metadata": {},
   "source": []
  },
  {
   "cell_type": "markdown",
   "metadata": {},
   "source": [
    "#### Arithmethical Operations\n",
    "\n",
    "- Calculate $\\frac{2^8 x 3^2}{3}$\n"
   ]
  },
  {
   "cell_type": "code",
   "execution_count": null,
   "metadata": {},
   "outputs": [],
   "source": []
  },
  {
   "cell_type": "markdown",
   "metadata": {},
   "source": [
    "- What is the remainder of the following operation: $2^8 / 11$\n",
    "- What is the quotient of the operation above?  (quotient of 15/6 -> 3)"
   ]
  },
  {
   "cell_type": "code",
   "execution_count": null,
   "metadata": {},
   "outputs": [],
   "source": []
  },
  {
   "cell_type": "markdown",
   "metadata": {},
   "source": [
    "#### Comparisons\n",
    "\n",
    "- Find out if results of the following two operations are the same by performing a comparison:\n",
    "    - $2^6 * 3$ vs $2^3*2 * 3$\n",
    "- Make the necessary adjustments using parentheses to equalize calculations.\n",
    "- Redo the comparison."
   ]
  },
  {
   "cell_type": "code",
   "execution_count": null,
   "metadata": {},
   "outputs": [],
   "source": []
  },
  {
   "cell_type": "markdown",
   "metadata": {},
   "source": [
    "### Rounding and Roundoff Errors\n",
    "\n",
    "- Calculate 1/3 and round the result to the precision of two digits.\n",
    "- Compare your result to `(0.1 + 0.1 + 0.1)`"
   ]
  },
  {
   "cell_type": "code",
   "execution_count": null,
   "metadata": {},
   "outputs": [],
   "source": []
  },
  {
   "cell_type": "markdown",
   "metadata": {},
   "source": [
    "### List\n",
    "\n",
    "#### Creating Lists\n",
    "\n",
    "Create an instance of a list, containing one-digit, odd integers."
   ]
  },
  {
   "cell_type": "code",
   "execution_count": null,
   "metadata": {},
   "outputs": [],
   "source": []
  },
  {
   "cell_type": "markdown",
   "metadata": {},
   "source": [
    "#### Tricks\n",
    "\n",
    "Create a list containing 20 6's without typing 6 20 times:\n",
    "\n",
    "Sample output : `[6, 6, 6, 6, 6, 6, 6, 6, 6, 6, 6, 6, 6, 6, 6, 6, 6, 6, 6, 6]`"
   ]
  },
  {
   "cell_type": "code",
   "execution_count": null,
   "metadata": {},
   "outputs": [],
   "source": []
  },
  {
   "cell_type": "markdown",
   "metadata": {},
   "source": [
    "Lists can contain different data types together.  \n",
    "- Create a list containing one instance from each of float, int, string, and another list having at least 4 elements."
   ]
  },
  {
   "cell_type": "code",
   "execution_count": null,
   "metadata": {},
   "outputs": [],
   "source": []
  },
  {
   "cell_type": "markdown",
   "metadata": {},
   "source": [
    "#### Indexing\n",
    "\n",
    "- Select the first element of the list you created above.\n",
    "- Select the last element of the list you created above.\n",
    "- **Nested Indexing**: Select the last element of the list contained in your list."
   ]
  },
  {
   "cell_type": "code",
   "execution_count": null,
   "metadata": {},
   "outputs": [],
   "source": []
  },
  {
   "cell_type": "markdown",
   "metadata": {},
   "source": [
    "#### Inserting and removing elements\n",
    "\n",
    "- Create a list of 8 ones: `[1,1,1,1,1,1,1,1]`\n",
    "- Add a new element: `4` to the end of the list you defined above.\n",
    "- Remove any one element from your list.\n",
    "- Add a new element `5` to the second place of your list.\n",
    "- Find the index of five using `.index(5)` method of your list."
   ]
  },
  {
   "cell_type": "code",
   "execution_count": null,
   "metadata": {},
   "outputs": [],
   "source": []
  },
  {
   "cell_type": "markdown",
   "metadata": {},
   "source": [
    "- Concatenate to lists `[1,2,3]` and `[4,4,4]` using the arithmetic operator `+`.\n",
    "- Concatenate those lists above using `.extend()` method."
   ]
  },
  {
   "cell_type": "code",
   "execution_count": null,
   "metadata": {},
   "outputs": [],
   "source": []
  },
  {
   "cell_type": "markdown",
   "metadata": {},
   "source": [
    "#### Counting\n",
    "\n",
    "- How many ones do we have in this list? Find the count of ones using `list.count()` method."
   ]
  },
  {
   "cell_type": "code",
   "execution_count": null,
   "metadata": {},
   "outputs": [],
   "source": []
  },
  {
   "cell_type": "markdown",
   "metadata": {},
   "source": [
    "Lists can also be used as stacks.\n",
    "- Create a new list to your liking and explore `list.pop()` and `list.insert()` methods."
   ]
  },
  {
   "cell_type": "code",
   "execution_count": null,
   "metadata": {},
   "outputs": [],
   "source": []
  },
  {
   "cell_type": "markdown",
   "metadata": {},
   "source": [
    "### Tuples vs Lists\n",
    "\n",
    "Tuples act like lists in terms of holding elements and indexing, but they are immutable and can't be changed i.e. no appending, inserting, removal or changing elements inplace.\n",
    "\n",
    "#### Exploring Methods and Attributes of Tuples and Lists\n",
    "\n",
    "- Inspect the methods and attributes of a list object:\n",
    "    - Create a new list object.\n",
    "    - Use built-in `dir(your_list)` function to see what methods a list has (ignore underscored methods for now)"
   ]
  },
  {
   "cell_type": "code",
   "execution_count": null,
   "metadata": {},
   "outputs": [],
   "source": []
  },
  {
   "cell_type": "markdown",
   "metadata": {},
   "source": [
    "- Inspect the methods and attributes of a tuple object:\n",
    "    - Create a new tuple object.\n",
    "    - Use built-in `dir(your_tuple)` function to see what methods a list has (ignore underscored methods for now)\n",
    "    - Note that `tuple` object does not have any methods liek append, insert, pop, etc."
   ]
  },
  {
   "cell_type": "code",
   "execution_count": null,
   "metadata": {},
   "outputs": [],
   "source": []
  },
  {
   "cell_type": "markdown",
   "metadata": {},
   "source": [
    "### Sets\n",
    "\n",
    "Set is a collection of unique elements. Lookups within sets are the fastest compared to other collection/array-like types.\n",
    "\n",
    "- Create a set from the list: `[1,2,3,5,4,5,4,1,7,8,11]`\n",
    "- Add a new element to your set: `9`"
   ]
  },
  {
   "cell_type": "code",
   "execution_count": null,
   "metadata": {},
   "outputs": [],
   "source": []
  },
  {
   "cell_type": "markdown",
   "metadata": {},
   "source": [
    "- Explore the methods and attributes of your set object using `dir` function.\n",
    "(Ignore underscored ones)"
   ]
  },
  {
   "cell_type": "code",
   "execution_count": null,
   "metadata": {},
   "outputs": [],
   "source": []
  },
  {
   "cell_type": "markdown",
   "metadata": {},
   "source": [
    "- Name your set `A` for the following questions:\n",
    "    - Given the set `B = {4,5,8,9,11}`, find the following using set methods you explored above:\n",
    "    - $A \\cup B$\n",
    "    - $A \\cap B$\n",
    "    - $A / B$\n",
    "    - $B / A$\n",
    "    - $(A / B) \\cup (B / A)$    "
   ]
  },
  {
   "cell_type": "markdown",
   "metadata": {},
   "source": [
    "- Try to solve the questions above using arithmetic operators, i.e `A-B` for **difference** or `A|B` (or) for **union**. "
   ]
  },
  {
   "cell_type": "code",
   "execution_count": null,
   "metadata": {},
   "outputs": [],
   "source": []
  }
 ],
 "metadata": {
  "kernelspec": {
   "display_name": "Python 3",
   "language": "python",
   "name": "python3"
  },
  "language_info": {
   "codemirror_mode": {
    "name": "ipython",
    "version": 3
   },
   "file_extension": ".py",
   "mimetype": "text/x-python",
   "name": "python",
   "nbconvert_exporter": "python",
   "pygments_lexer": "ipython3",
   "version": "3.7.0"
  }
 },
 "nbformat": 4,
 "nbformat_minor": 2
}
