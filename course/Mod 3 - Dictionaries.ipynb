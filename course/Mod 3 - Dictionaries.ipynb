{
 "cells": [
  {
   "cell_type": "markdown",
   "metadata": {},
   "source": [
    "# Dictionaries\n",
    "\n",
    "Python dictionaries are unoredered collections of items.  \n",
    "They hold key-value pairs."
   ]
  },
  {
   "cell_type": "markdown",
   "metadata": {},
   "source": [
    "Dictionaries are created as follows:  \n",
    "`sample_dict = {'key1':'value1', 'key2':'value2'}`  \n",
    "\n",
    "Keys must be unique, and of hashable data types (int, float, str, tuple, etc.)  \n",
    "Values can be of any data type.\n",
    "\n",
    "- See the example below to create a dictionary:"
   ]
  },
  {
   "cell_type": "code",
   "execution_count": 5,
   "metadata": {},
   "outputs": [],
   "source": [
    "sample_dict = {'a': 1,\n",
    "               'b': 2.2,\n",
    "               'c': [1,2,3],\n",
    "               2: 4,\n",
    "               (5,5): \"sample\",\n",
    "               ('keys','can','be','tuples'):(6,6)}"
   ]
  },
  {
   "cell_type": "code",
   "execution_count": 6,
   "metadata": {},
   "outputs": [
    {
     "ename": "TypeError",
     "evalue": "unhashable type: 'list'",
     "output_type": "error",
     "traceback": [
      "\u001b[1;31m---------------------------------------------------------------------------\u001b[0m",
      "\u001b[1;31mTypeError\u001b[0m                                 Traceback (most recent call last)",
      "\u001b[1;32m<ipython-input-6-96dadba751c2>\u001b[0m in \u001b[0;36m<module>\u001b[1;34m\u001b[0m\n\u001b[1;32m----> 1\u001b[1;33m \u001b[0munsuccesful_dict\u001b[0m \u001b[1;33m=\u001b[0m \u001b[1;33m{\u001b[0m\u001b[1;33m[\u001b[0m\u001b[1;34m'keys'\u001b[0m\u001b[1;33m,\u001b[0m\u001b[1;34m'cant'\u001b[0m\u001b[1;33m,\u001b[0m\u001b[1;34m'be'\u001b[0m\u001b[1;33m,\u001b[0m\u001b[1;34m'lists'\u001b[0m\u001b[1;33m]\u001b[0m\u001b[1;33m:\u001b[0m \u001b[1;34m'sample'\u001b[0m\u001b[1;33m}\u001b[0m\u001b[1;33m\u001b[0m\u001b[0m\n\u001b[0m",
      "\u001b[1;31mTypeError\u001b[0m: unhashable type: 'list'"
     ]
    }
   ],
   "source": [
    "unsuccesful_dict = {['keys','cant','be','lists']: 'sample'}"
   ]
  },
  {
   "cell_type": "markdown",
   "metadata": {},
   "source": [
    "Values of dictionaries can be accessed using the key.  \n",
    "```\n",
    "d = {\"a\":1, \"b\":2, \"c\":3}\n",
    "# We want to retrieve value of c\n",
    "print(d[\"c\"])\n",
    "```  \n",
    "Output:  \n",
    "`3`\n",
    "- Using the dictionary below, retrieve the value of Gokturk Khaganate"
   ]
  },
  {
   "cell_type": "code",
   "execution_count": 55,
   "metadata": {},
   "outputs": [],
   "source": [
    "empires = {'Ghaznavid Dynasty': 963, 'Delhi Sultanate': 1206, 'Hunnic Empire': 370,\n",
    "           'Hittite Empire': -1463, 'Gokturk Khaganate': 552, 'Ottoman Empire': 1299}\n",
    "\n",
    "# Write your code here:\n"
   ]
  },
  {
   "cell_type": "markdown",
   "metadata": {},
   "source": [
    "Dictionaries can be nested to create a more useful data\n",
    "structure.\n",
    "- Find the following using the structure below:\n",
    "    1. Retrieve the foundation date (\"From\") of \"Hunnic Empire\".\n",
    "    2. Retrieve the \"Origin\" of \"Han Dynasty\".\n",
    "    3. Retrieve the fall (\"To\") of \"Hittite Empire\"."
   ]
  },
  {
   "cell_type": "code",
   "execution_count": 103,
   "metadata": {},
   "outputs": [],
   "source": [
    "empires_extended = {'Han Dynasty':        {'Origin': 'China', 'From': '206 BC', 'To': '220'},\n",
    "                    'Empire of Harsha':   {'Origin': 'Northern India', 'From': '606', 'To': '647'},\n",
    "                    'Hephthalite Empire': {'Origin': 'Afghanistan', 'From': '420', 'To': '567'},\n",
    "                    'Hittite Empire':     {'Origin': 'Anatolia', 'From': '1460 BC', 'To': '1180 BC'},\n",
    "                    'Holy Roman Empire':  {'Origin': 'Central Europe', 'From': '962', 'To': '1806'},\n",
    "                    'Hotaki Dynasty':     {'Origin': 'Persia', 'From': '1709', 'To': '1738'},\n",
    "                    'Hoysala Empire':     {'Origin': 'India', 'From': '1026', 'To': '1343'},\n",
    "                    'Hunnic Empire':      {'Origin': 'Eurasia', 'From': '370', 'To': '469'},\n",
    "                    'Idrisid dynasty':    {'Origin': 'Morocco', 'From': '788', 'To': '974'},\n",
    "                    'Ilkhanate':          {'Origin': 'Persia', 'From': '1256', 'To': '1335'}}\n",
    "\n",
    "# Write your code here"
   ]
  },
  {
   "cell_type": "markdown",
   "metadata": {},
   "source": [
    "All keys of a dictionary can be retrieved using `your_dict.keys()` method.  \n",
    "Similarly, all values can be displayed using `your_dict.values()`.  \n",
    "- Print the keys of `empires_extended`."
   ]
  },
  {
   "cell_type": "code",
   "execution_count": 40,
   "metadata": {},
   "outputs": [],
   "source": [
    "\n",
    "# print(empires_extended.____())"
   ]
  },
  {
   "cell_type": "markdown",
   "metadata": {},
   "source": [
    "- Print the values of `empires_extended`."
   ]
  },
  {
   "cell_type": "code",
   "execution_count": null,
   "metadata": {},
   "outputs": [],
   "source": []
  },
  {
   "cell_type": "markdown",
   "metadata": {},
   "source": [
    "- Check if \"Holy Roman Empire\" exists in keys of `empires_extended`."
   ]
  },
  {
   "cell_type": "code",
   "execution_count": 41,
   "metadata": {},
   "outputs": [],
   "source": [
    "\n",
    "\n",
    "# \"Holy Roman Empire\" in empires_extended.____()"
   ]
  },
  {
   "cell_type": "markdown",
   "metadata": {},
   "source": [
    "- Check if \"Ottoman Empire\" exists in keys of `empires_extended`."
   ]
  },
  {
   "cell_type": "code",
   "execution_count": null,
   "metadata": {},
   "outputs": [],
   "source": []
  },
  {
   "cell_type": "markdown",
   "metadata": {},
   "source": [
    "Membership test for the keys can also be done as follows:\n",
    "```\n",
    "d = {'a':1, 'b':2}\n",
    "print('a' in d)\n",
    "print('c' in d)\n",
    "```\n",
    "Output:  \n",
    "```\n",
    "True\n",
    "False\n",
    "```"
   ]
  },
  {
   "cell_type": "code",
   "execution_count": null,
   "metadata": {},
   "outputs": [],
   "source": []
  },
  {
   "cell_type": "markdown",
   "metadata": {},
   "source": [
    "New values can be inserted into dictionaries as in `your_dict['new key'] = new_value`.\n",
    "- Insert \"Great Seljuq Empire\" and its foundation date as 1037 into `empires` dictionary.."
   ]
  },
  {
   "cell_type": "code",
   "execution_count": null,
   "metadata": {},
   "outputs": [],
   "source": []
  },
  {
   "cell_type": "markdown",
   "metadata": {},
   "source": [
    "- Insert \"Great Seljuq Empire\"'s detailed information into `empires_extended` dictionary.  \n",
    "*Great Seljuq Empire, Origin: Asia Minor, From: 1037, To: 1194*"
   ]
  },
  {
   "cell_type": "code",
   "execution_count": null,
   "metadata": {},
   "outputs": [],
   "source": []
  },
  {
   "cell_type": "markdown",
   "metadata": {},
   "source": [
    "- Calculate the duration of Great Seljuq Empire and add as a new key into `empires_extended['Great Seljuq Empire']['Duration']`"
   ]
  },
  {
   "cell_type": "code",
   "execution_count": null,
   "metadata": {},
   "outputs": [],
   "source": []
  },
  {
   "cell_type": "markdown",
   "metadata": {},
   "source": [
    "Existing values can be overridden by simply reassigning a value.\n",
    "```\n",
    "d = {'a':1, 'b':2}\n",
    "d['a'] = 3\n",
    "print(d)\n",
    "```\n",
    "Output: `{'a':3, 'b':2}`\n",
    "\n",
    "- Change the Origin of Hittite Empire to \"Corum\"."
   ]
  },
  {
   "cell_type": "code",
   "execution_count": null,
   "metadata": {},
   "outputs": [],
   "source": []
  },
  {
   "cell_type": "markdown",
   "metadata": {},
   "source": [
    "Existing keys can be deleted using `del`.\n",
    "```\n",
    "d = {'a':1, 'b':2}\n",
    "del d['a']\n",
    "print(d)\n",
    "```\n",
    "Output: `{'b':2}`\n",
    "\n",
    "- Delete \"Hoysala Empire\" from `empires_extended` dictionary."
   ]
  },
  {
   "cell_type": "code",
   "execution_count": null,
   "metadata": {},
   "outputs": [],
   "source": []
  },
  {
   "cell_type": "markdown",
   "metadata": {},
   "source": [
    "- How many empires are there in `empires_extended` dictionary?  \n",
    "(Hint: use `len(empires_extended)`)"
   ]
  },
  {
   "cell_type": "code",
   "execution_count": null,
   "metadata": {},
   "outputs": [],
   "source": []
  },
  {
   "cell_type": "markdown",
   "metadata": {},
   "source": [
    "- Get empire names in alphabetical order."
   ]
  },
  {
   "cell_type": "code",
   "execution_count": null,
   "metadata": {},
   "outputs": [],
   "source": []
  },
  {
   "cell_type": "markdown",
   "metadata": {},
   "source": [
    "`.items()` method returns key-value pairs in tuples.\n",
    "- Retrieve key-value pairs of `empires` dictionary."
   ]
  },
  {
   "cell_type": "code",
   "execution_count": null,
   "metadata": {},
   "outputs": [],
   "source": []
  },
  {
   "cell_type": "markdown",
   "metadata": {},
   "source": [
    "- Sort key-value pairs of `empires` dictionary alphabetically.  \n",
    "(Hint: Use `sorted()` function on `empires.items()`.)"
   ]
  },
  {
   "cell_type": "code",
   "execution_count": null,
   "metadata": {},
   "outputs": [],
   "source": []
  },
  {
   "cell_type": "markdown",
   "metadata": {},
   "source": [
    "Just like lists, dictionaries are also called by reference.\n",
    "- Execute the code below to see this issue.  \n",
    "This code also shows another way of creating dictionaries and inserting items."
   ]
  },
  {
   "cell_type": "code",
   "execution_count": 9,
   "metadata": {},
   "outputs": [
    {
     "name": "stdout",
     "output_type": "stream",
     "text": [
      "{'a': 1, 'b': 2, 'c': 3, 'e': 3}\n"
     ]
    }
   ],
   "source": [
    "dict_a = dict(a=1, b=2, c=3)\n",
    "dict_b = dict_a\n",
    "\n",
    "dict_a.update(e=3)\n",
    "print(dict_b)\n"
   ]
  },
  {
   "cell_type": "markdown",
   "metadata": {},
   "source": [
    "- Find a useful method to copy a dictionary using the table below, without creating a reference."
   ]
  },
  {
   "cell_type": "code",
   "execution_count": null,
   "metadata": {},
   "outputs": [],
   "source": []
  },
  {
   "cell_type": "markdown",
   "metadata": {},
   "source": [
    "## Other dictionary methods\n",
    "\n",
    "|Method|Description|\n",
    "|---|----|\n",
    "|clear()|Remove all items form the dictionary.|\n",
    "|copy()|Return a shallow copy of the dictionary.|\n",
    "|fromkeys(seq[, v])|Return a new dictionary with keys from seq and value equal to v (defaults to None).|\n",
    "|get(key[,d])|Return the value of key. If key doesnot exit, return d (defaults to None).|\n",
    "|items()|Return a new view of the dictionary's items (key, value).|\n",
    "|keys()|Return a new view of the dictionary's keys.|\n",
    "|pop(key[,d])|Remove the item with key and return its value or d if key is not found. If d is not provided and key is not found, raises KeyError.\n",
    "|popitem()|Remove and return an arbitary item (key, value). Raises KeyError if the dictionary is empty.\n",
    "|setdefault(key[,d])|If key is in the dictionary, return its value. If not, insert key with a value of d and return d (defaults to None).\n",
    "|update([other])|Update the dictionary with the key/value pairs from other, overwriting existing keys.\n",
    "|values()|Return a new view of the dictionary's values"
   ]
  },
  {
   "cell_type": "code",
   "execution_count": null,
   "metadata": {},
   "outputs": [],
   "source": []
  }
 ],
 "metadata": {
  "kernelspec": {
   "display_name": "Python 3",
   "language": "python",
   "name": "python3"
  },
  "language_info": {
   "codemirror_mode": {
    "name": "ipython",
    "version": 3
   },
   "file_extension": ".py",
   "mimetype": "text/x-python",
   "name": "python",
   "nbconvert_exporter": "python",
   "pygments_lexer": "ipython3",
   "version": "3.7.0"
  }
 },
 "nbformat": 4,
 "nbformat_minor": 2
}
