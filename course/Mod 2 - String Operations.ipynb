{
 "cells": [
  {
   "cell_type": "markdown",
   "metadata": {},
   "source": [
    "# Strings and String Operations\n",
    "\n",
    "String data type is very similar to lists in terms of behavior (indexing, slicing, concatenation, etc.)  \n",
    "String variables can be single or multiple characters.\n",
    "\n",
    "- Define two string variables, `a = 'abc'` and `b = 'd'`."
   ]
  },
  {
   "cell_type": "code",
   "execution_count": null,
   "metadata": {},
   "outputs": [],
   "source": []
  },
  {
   "cell_type": "markdown",
   "metadata": {},
   "source": [
    "String literals are surrounded by either single or double quotation marks.\n",
    "- Run the example below:"
   ]
  },
  {
   "cell_type": "code",
   "execution_count": null,
   "metadata": {},
   "outputs": [],
   "source": [
    "print(\"Hello World\")\n",
    "print('Hello World')"
   ]
  },
  {
   "cell_type": "markdown",
   "metadata": {},
   "source": [
    "Multiline strings can be defined using **three** quotation marks.\n",
    "- Run the example cell below:"
   ]
  },
  {
   "cell_type": "code",
   "execution_count": null,
   "metadata": {},
   "outputs": [],
   "source": [
    "multi = \"\"\"This is a\n",
    "multiline string.\"\"\"\n",
    "print(multi)"
   ]
  },
  {
   "cell_type": "markdown",
   "metadata": {},
   "source": [
    "String variables can be concatenated using `+` operator.  \n",
    "- Concatenate `a` and `b` variables to obtain `\"abcd\"` as `d` variable."
   ]
  },
  {
   "cell_type": "code",
   "execution_count": null,
   "metadata": {},
   "outputs": [],
   "source": []
  },
  {
   "cell_type": "markdown",
   "metadata": {},
   "source": [
    "Strings can be multiplied to create longer strings.\n",
    "- Create a variable of all `\"a\"`'s, 27 characters long."
   ]
  },
  {
   "cell_type": "code",
   "execution_count": null,
   "metadata": {},
   "outputs": [],
   "source": []
  },
  {
   "cell_type": "markdown",
   "metadata": {},
   "source": [
    "Indexing can be used for string variables just as in lists.\n",
    "- Select the first character of `d`.\n",
    "- Select the last character of `d`."
   ]
  },
  {
   "cell_type": "code",
   "execution_count": null,
   "metadata": {},
   "outputs": [],
   "source": []
  },
  {
   "cell_type": "markdown",
   "metadata": {},
   "source": [
    "- Select first three characters of `d`."
   ]
  },
  {
   "cell_type": "code",
   "execution_count": null,
   "metadata": {},
   "outputs": [],
   "source": []
  },
  {
   "cell_type": "markdown",
   "metadata": {},
   "source": [
    "- Change the last character of `d` into `\"e\"` to obtain `\"abce\"`."
   ]
  },
  {
   "cell_type": "code",
   "execution_count": null,
   "metadata": {},
   "outputs": [],
   "source": []
  },
  {
   "cell_type": "markdown",
   "metadata": {},
   "source": [
    "Membership tests can be performed on strings.\n",
    "- Check if word `\"Python\"` occurrs in the following string:"
   ]
  },
  {
   "cell_type": "code",
   "execution_count": null,
   "metadata": {},
   "outputs": [],
   "source": [
    "paragraph = \\\n",
    "\"\"\"Like many other popular programming languages, strings in Python are arrays of bytes representing unicode characters.\n",
    "However, Python does not have a character data type, a single character is simply a string with a length of 1.\n",
    "Square brackets can be used to access elements of the string.\"\"\"\n",
    "\n",
    "# \"Python\" ? paragraph"
   ]
  },
  {
   "cell_type": "code",
   "execution_count": null,
   "metadata": {},
   "outputs": [],
   "source": []
  },
  {
   "cell_type": "markdown",
   "metadata": {},
   "source": [
    "- What is the length of the `paragraph`?"
   ]
  },
  {
   "cell_type": "code",
   "execution_count": null,
   "metadata": {},
   "outputs": [],
   "source": []
  },
  {
   "cell_type": "markdown",
   "metadata": {},
   "source": [
    "- Turn the string `\"Python\"` into all lowercase characters.\n",
    "Hint:\n",
    "```\n",
    "p = \"UPPER\"\n",
    "p.lower()\n",
    "```"
   ]
  },
  {
   "cell_type": "code",
   "execution_count": null,
   "metadata": {},
   "outputs": [],
   "source": [
    "p = \"Python\"\n",
    "\n",
    "# p.?()"
   ]
  },
  {
   "cell_type": "markdown",
   "metadata": {},
   "source": [
    "- Turn the string `\"Python\"` into all uppercase characters."
   ]
  },
  {
   "cell_type": "code",
   "execution_count": null,
   "metadata": {},
   "outputs": [],
   "source": []
  },
  {
   "cell_type": "markdown",
   "metadata": {},
   "source": [
    "Characters or sequences in a string can be replaced using `str.replace(old, new)`.\n",
    "- Replace \"y\" characters in p with \"i\"."
   ]
  },
  {
   "cell_type": "code",
   "execution_count": null,
   "metadata": {},
   "outputs": [],
   "source": [
    "p = \"Python\"\n",
    "\n",
    "# p.?(?, ?)"
   ]
  },
  {
   "cell_type": "markdown",
   "metadata": {},
   "source": [
    "- Replace \"on\" sequence with \"off\"."
   ]
  },
  {
   "cell_type": "code",
   "execution_count": null,
   "metadata": {},
   "outputs": [],
   "source": [
    "p = \"Python\"\n",
    "\n",
    "# p.?(?, ?)"
   ]
  },
  {
   "cell_type": "markdown",
   "metadata": {},
   "source": [
    "Strings can be split to create a list by passing the delimiter character into `split()` method.\n",
    "- Split the following data:"
   ]
  },
  {
   "cell_type": "code",
   "execution_count": null,
   "metadata": {},
   "outputs": [],
   "source": [
    "cities = 'Chesapeake,Guangzhou,Bengal,Rio'\n",
    "population = '25900,8675099,16004112,6000000'\n",
    "\n",
    "# cities.split(?)\n",
    "# population.split(?)"
   ]
  },
  {
   "cell_type": "markdown",
   "metadata": {},
   "source": [
    "List or tuple elements can be joined together into a string.\n",
    "- Join the following list with spaces in between.  \n",
    "Sample input: `t = [\"3\",\"tunc\",\"tas\",\"kayisi\",\"hosafi\"]`  \n",
    "`\" \".join(t)`  \n",
    "Sample output: `\"3 tunc tas kayisi hosafi\""
   ]
  },
  {
   "cell_type": "code",
   "execution_count": null,
   "metadata": {},
   "outputs": [],
   "source": [
    "split_text = [\"This\",\"is\",\"split\",\"text.\"]\n",
    "# joined_text = ?"
   ]
  },
  {
   "cell_type": "markdown",
   "metadata": {},
   "source": [
    "If you want no characters in between list elements, just join on an empty string, i.e `\"\".join(your_list)`\n",
    "- Join the following list:"
   ]
  },
  {
   "cell_type": "code",
   "execution_count": null,
   "metadata": {},
   "outputs": [],
   "source": [
    "p = ['P','y','t','h','o','n']\n",
    "\n",
    "# joined = ?"
   ]
  },
  {
   "cell_type": "markdown",
   "metadata": {},
   "source": [
    "Creating a list using a string splits each character.\n",
    "\n",
    "```\n",
    "s = \"string\"\n",
    "list(s)\n",
    ">>> ['s','t','r','i','n','g']\n",
    "```\n",
    "- Convert the string below into a list:"
   ]
  },
  {
   "cell_type": "code",
   "execution_count": null,
   "metadata": {},
   "outputs": [],
   "source": [
    "p = \"Python\"\n",
    "\n",
    "#"
   ]
  },
  {
   "cell_type": "markdown",
   "metadata": {},
   "source": [
    "String formatting is useful for automated texts.\n",
    "- Observe the following snippet of code."
   ]
  },
  {
   "cell_type": "code",
   "execution_count": 1,
   "metadata": {},
   "outputs": [
    {
     "name": "stdout",
     "output_type": "stream",
     "text": [
      "Rota 45, gemi rotada.\n",
      "Rota 45, gemi rotada\n",
      "Rota 045, gemi rotada.\n",
      "Rota 45, gemi rotada.\n"
     ]
    }
   ],
   "source": [
    "route = 45\n",
    "\n",
    "print(f\"Rota {route}, gemi rotada.\")\n",
    "print(\"Rota {}, gemi rotada\".format(route))\n",
    "print(\"Rota %03d, gemi rotada.\" % route)\n",
    "print(\"Rota %s, gemi rotada.\" % route)"
   ]
  },
  {
   "cell_type": "markdown",
   "metadata": {},
   "source": [
    "**Bonus Question**\n",
    "\n",
    "Reverse the word `Python` into `nothyP`.\n",
    "\n",
    "- Alternative 1: Split the characters using `list`, use `reversed()` method and join back the string.\n",
    "\n",
    "- Alternative 2: Use slicing. \n",
    "\n",
    "\n",
    "\n"
   ]
  },
  {
   "cell_type": "code",
   "execution_count": null,
   "metadata": {},
   "outputs": [],
   "source": []
  },
  {
   "cell_type": "markdown",
   "metadata": {},
   "source": [
    "### Freestyle Section\n",
    "\n",
    "Explore the string methods using\n",
    "```\n",
    "a = 'string'\n",
    "dir(a)\n",
    "```\n",
    "\n",
    "There are lots of useful methods to deal with text data.\n",
    "\n",
    "Try `.find`, `strip`, `.count` and `.index` methods on longer strings to see what they do."
   ]
  },
  {
   "cell_type": "code",
   "execution_count": null,
   "metadata": {},
   "outputs": [],
   "source": [
    "a = 'string'\n",
    "dir(a)"
   ]
  },
  {
   "cell_type": "code",
   "execution_count": null,
   "metadata": {},
   "outputs": [],
   "source": []
  }
 ],
 "metadata": {
  "kernelspec": {
   "display_name": "Python 3",
   "language": "python",
   "name": "python3"
  },
  "language_info": {
   "codemirror_mode": {
    "name": "ipython",
    "version": 3
   },
   "file_extension": ".py",
   "mimetype": "text/x-python",
   "name": "python",
   "nbconvert_exporter": "python",
   "pygments_lexer": "ipython3",
   "version": "3.7.0"
  }
 },
 "nbformat": 4,
 "nbformat_minor": 2
}
