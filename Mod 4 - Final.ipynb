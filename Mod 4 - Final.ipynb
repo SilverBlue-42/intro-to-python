{
 "cells": [
  {
   "cell_type": "markdown",
   "metadata": {},
   "source": [
    "## Conditions\n"
   ]
  },
  {
   "cell_type": "markdown",
   "metadata": {},
   "source": [
    "A leap year is exactly divisible by 4 except for century years (years ending with 00). The century year is a leap year only if it is perfectly divisible by 400.  \n",
    "\n",
    "For example:\n",
    "\n",
    "\n",
    "|Year|is leap?|\n",
    "|----|----|\n",
    "|2017|not leap|\n",
    "|1900|not leap|\n",
    "|2012|leap|\n",
    "|2000|leap|\n",
    "\n",
    "- Write a program to print out if a given year is leap or not.\n",
    "    - Use string formatting to print the statement as such: `f\"{YEAR} is {ISLEAP}\"`"
   ]
  },
  {
   "cell_type": "code",
   "execution_count": 3,
   "metadata": {},
   "outputs": [
    {
     "name": "stdout",
     "output_type": "stream",
     "text": [
      "1900 is not leap.\n"
     ]
    }
   ],
   "source": [
    "YEAR = 1900\n",
    "ISLEAP = False\n",
    "\n",
    "leap_status = 'leap' if ISLEAP else 'not leap'\n",
    "\n",
    "print(f\"{YEAR} is {leap_status}.\")"
   ]
  },
  {
   "cell_type": "code",
   "execution_count": null,
   "metadata": {},
   "outputs": [],
   "source": [
    "YEAR = 2019\n",
    "\n",
    "# Write your code here:"
   ]
  },
  {
   "cell_type": "code",
   "execution_count": 4,
   "metadata": {},
   "outputs": [],
   "source": [
    "# Sample schema:\n",
    "\n",
    "# if divisible by 4:\n",
    "    # if divisible by 400:\n",
    "        # leap\n",
    "    # elif not divisible by 100:\n",
    "        # leap\n",
    "    # else:\n",
    "        # not leap\n",
    "# else:\n",
    "    # not leap\n",
    "        "
   ]
  }
 ],
 "metadata": {
  "kernelspec": {
   "display_name": "Python 3",
   "language": "python",
   "name": "python3"
  },
  "language_info": {
   "codemirror_mode": {
    "name": "ipython",
    "version": 3
   },
   "file_extension": ".py",
   "mimetype": "text/x-python",
   "name": "python",
   "nbconvert_exporter": "python",
   "pygments_lexer": "ipython3",
   "version": "3.6.6"
  }
 },
 "nbformat": 4,
 "nbformat_minor": 2
}
